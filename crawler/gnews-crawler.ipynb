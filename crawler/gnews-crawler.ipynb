{
 "cells": [
  {
   "cell_type": "code",
   "execution_count": 13,
   "metadata": {},
   "outputs": [],
   "source": [
    "from pygooglenews import GoogleNews\n",
    "import requests\n",
    "from bs4 import BeautifulSoup\n",
    "import csv\n",
    "import os"
   ]
  },
  {
   "cell_type": "code",
   "execution_count": null,
   "metadata": {},
   "outputs": [],
   "source": [
    "# Google News Crawling\n",
    "gn = GoogleNews(country='ID')\n",
    "\n",
    "def get_news_data(search, max_results=50):\n",
    "    stories = []\n",
    "    search_results = gn.search(search)\n",
    "    news_items = search_results['entries'][:max_results]  # Batasi hasil\n",
    "\n",
    "    for item in news_items:\n",
    "        # Collect basic data\n",
    "        story = {\n",
    "            'Title': item.title,\n",
    "            'Sumber': getattr(item, 'source', 'N/A'),  # Publisher/Source\n",
    "            'Tanggal': getattr(item, 'published', 'N/A'),  # Publish date\n",
    "            'Link': item.link,\n",
    "            'Ringkasan': 'N/A'  # Default value for summary\n",
    "        }\n",
    "        \n",
    "        # Mengambil hasil singkat pembahasan (paragraf pertama dari link)\n",
    "        try:\n",
    "            response = requests.get(item.link, timeout=5)  # Fetch the article page\n",
    "            if response.status_code == 200:\n",
    "                soup = BeautifulSoup(response.content, 'html.parser')\n",
    "                # Ambil paragraf pertama\n",
    "                paragraph = soup.find('p')\n",
    "                story['Ringkasan'] = paragraph.get_text(strip=True) if paragraph else 'N/A'\n",
    "        except Exception as e:\n",
    "            print(f\"Gagal mengambil ringkasan untuk {item.link}: {e}\")\n",
    "        \n",
    "        stories.append(story)\n",
    "    return stories"
   ]
  },
  {
   "cell_type": "code",
   "execution_count": null,
   "metadata": {},
   "outputs": [],
   "source": [
    "def save_to_csv(stories, filename):\n",
    "    output_dir = \"crawl-output\"\n",
    "    os.makedirs(output_dir, exist_ok=True)  # Buat direktori jika belum ada\n",
    "    \n",
    "    file_path = os.path.join(output_dir, filename)\n",
    "    header = ['Title', 'Sumber', 'Tanggal', 'Ringkasan', 'Link']\n",
    "    \n",
    "    with open(file_path, mode='w', newline='', encoding='utf-8') as file:\n",
    "        writer = csv.DictWriter(file, fieldnames=header)\n",
    "        writer.writeheader()  # Tulis header\n",
    "        for story in stories:\n",
    "            writer.writerow({\n",
    "                'Title': story['Title'],\n",
    "                'Sumber': story['Sumber'],\n",
    "                'Tanggal': story['Tanggal'],\n",
    "                'Ringkasan': story['Ringkasan'],\n",
    "                'Link': story['Link']\n",
    "            })\n",
    "    print(f\"Data berhasil disimpan di {file_path}\")"
   ]
  },
  {
   "cell_type": "code",
   "execution_count": null,
   "metadata": {},
   "outputs": [
    {
     "name": "stdout",
     "output_type": "stream",
     "text": [
      "Data saved to crawl-output\\prabowo_news.csv\n"
     ]
    }
   ],
   "source": [
    "# Main Program\n",
    "if __name__ == \"__main__\":\n",
    "    search_query = 'prabowo'  # Kata kunci pencarian berita\n",
    "    max_news = 100  # Jumlah berita maksimum yang akan diambil\n",
    "    \n",
    "    # Mengambil data berita\n",
    "    print(\"Mengambil data berita, mohon tunggu...\")\n",
    "    stories = get_news_data(search_query, max_results=max_news)\n",
    "    \n",
    "    # Menyimpan ke CSV\n",
    "    csv_filename = f'{search_query}_news.csv'\n",
    "    save_to_csv(stories, csv_filename)"
   ]
  }
 ],
 "metadata": {
  "kernelspec": {
   "display_name": "Python 3",
   "language": "python",
   "name": "python3"
  },
  "language_info": {
   "codemirror_mode": {
    "name": "ipython",
    "version": 3
   },
   "file_extension": ".py",
   "mimetype": "text/x-python",
   "name": "python",
   "nbconvert_exporter": "python",
   "pygments_lexer": "ipython3",
   "version": "3.11.4"
  }
 },
 "nbformat": 4,
 "nbformat_minor": 2
}
